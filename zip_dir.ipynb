{
 "cells": [
  {
   "cell_type": "markdown",
   "metadata": {},
   "source": [
    "Zip a directory of files, no subfolders"
   ]
  },
  {
   "cell_type": "code",
   "execution_count": 2,
   "metadata": {},
   "outputs": [],
   "source": [
    "import os\n",
    "from pathlib import Path\n",
    "from zipfile import ZipFile, ZIP_DEFLATED"
   ]
  },
  {
   "cell_type": "code",
   "execution_count": null,
   "metadata": {},
   "outputs": [],
   "source": [
    "# folder = r\"/Users/justin/Projects/Python/zip/data/\"\n",
    "\n",
    "\n",
    "folder = r\"data\"\n",
    "zfile = r\"data.zip\"  # use the timestamped folder name\n",
    "p = Path(folder)"
   ]
  },
  {
   "cell_type": "markdown",
   "metadata": {},
   "source": [
    "Retain the newest files (delete more than a determined number)"
   ]
  },
  {
   "cell_type": "code",
   "execution_count": null,
   "metadata": {},
   "outputs": [],
   "source": [
    "retain = 8\n",
    "\n",
    "filelist = [x for x in p.iterdir()]\n",
    "filelist.sort()\n",
    "\n",
    "\n",
    "if len(filelist) > retain:\n",
    "    dropping = filelist[0:(len(filelist) - retain)]\n",
    "    # print(dropping)\n",
    "\n",
    "    for drop in dropping:\n",
    "        os.remove(drop)"
   ]
  },
  {
   "cell_type": "code",
   "execution_count": null,
   "metadata": {},
   "outputs": [],
   "source": [
    "with ZipFile(zfile, mode='w', compression=ZIP_DEFLATED, compresslevel=9) as myzip:\n",
    "    for pf in p.iterdir():\n",
    "        if pf.name not in [\".DS_Store\"]:\n",
    "            # print(pf)\n",
    "            myzip.write(pf)\n",
    "\n",
    "        os.remove(pf)\n",
    "\n",
    "myzip.close()\n",
    "os.rmdir(folder)\n",
    "\n",
    "print(\"done\")\n"
   ]
  }
 ],
 "metadata": {
  "kernelspec": {
   "display_name": "Python 3",
   "language": "python",
   "name": "python3"
  },
  "language_info": {
   "codemirror_mode": {
    "name": "ipython",
    "version": 3
   },
   "file_extension": ".py",
   "mimetype": "text/x-python",
   "name": "python",
   "nbconvert_exporter": "python",
   "pygments_lexer": "ipython3",
   "version": "3.13.1"
  }
 },
 "nbformat": 4,
 "nbformat_minor": 2
}
