{
 "cells": [
  {
   "cell_type": "markdown",
   "id": "82ffe7e8",
   "metadata": {},
   "source": [
    "# Zip the GIS Enterprise Reporter output reports\n",
    "\n",
    "1. Call the executable to run the GIS Enterprise Reporter\n",
    "2. Create a ZIP file archive with a filename formatted to include the Portal name and the date stamp\n",
    "3. Delete the original files (now archived)"
   ]
  },
  {
   "cell_type": "code",
   "execution_count": null,
   "id": "c034d1e1",
   "metadata": {},
   "outputs": [],
   "source": [
    "import os\n",
    "import subprocess\n",
    "\n",
    "from pathlib import Path\n",
    "from zipfile import ZipFile, ZIP_DEFLATED\n",
    "from datetime import datetime"
   ]
  },
  {
   "cell_type": "markdown",
   "id": "b5da89e2",
   "metadata": {},
   "source": [
    "Call the GIS Enterprise Reporter executable, with the `er.config` file as the first argument\n",
    "- `er.config` contains the info needed to run the reports"
   ]
  },
  {
   "cell_type": "code",
   "execution_count": null,
   "id": "2ff71920",
   "metadata": {},
   "outputs": [],
   "source": [
    "subprocess.run([\"C:\\Esri\\gis_enterprise_reporter\\gis_enterprise_reporter\\er.exe\", \"C:\\Esri\\er.config\"])"
   ]
  },
  {
   "cell_type": "markdown",
   "id": "62e2c119",
   "metadata": {},
   "source": [
    "After the reports have run, create a ZIP file"
   ]
  },
  {
   "cell_type": "code",
   "execution_count": null,
   "id": "c8d7a789",
   "metadata": {},
   "outputs": [],
   "source": [
    "# use the same output directory in \"C:\\Esri\\er.config\"\n",
    "\n",
    "OutputDirectory = Path(r\"C:\\Esri\\output\")\n",
    "\n",
    "date_str = datetime.strftime(datetime.today(), r'%Y%m%d')  # 20250715\n",
    "\n",
    "# get the first filename in the output directory, for building the name if the ZIP archive\n",
    "for file in os.listdir(OutputDirectory):\n",
    "\n",
    "    # skip any file that ends in .zip\n",
    "    if file[-4:] != \".zip\":\n",
    "        report = file\n",
    "        break\n",
    "\n",
    "report_words = report.split('_')  # split the filename into a list\n",
    "\n",
    "indx_portal = report_words.index('portal')  # find out where the word 'portal' is located (hint, it's 4)\n",
    "report_words = report_words[0:indx_portal+1]  # get the first 5 words in the filename (to include 'portal')\n",
    "report_words.append(date_str)  # append the date stamp to the list\n",
    "zipfile = '_'.join(report_words)\n",
    "\n",
    "# build the full path and filename of the ZIP archive\n",
    "arch_zip = Path(OutputDirectory, zipfile).with_suffix(\".zip\")"
   ]
  },
  {
   "cell_type": "markdown",
   "id": "aba5cebe",
   "metadata": {},
   "source": [
    "Add the output reports to the ZIP file and delete the originals"
   ]
  },
  {
   "cell_type": "code",
   "execution_count": null,
   "id": "e7e75002",
   "metadata": {},
   "outputs": [],
   "source": [
    "# add files to the ZIP file\n",
    "with ZipFile(arch_zip, mode='w', compression=ZIP_DEFLATED, compresslevel=9) as outzip:\n",
    "\n",
    "    for itemfile in Path(OutputDirectory).iterdir():\n",
    "\n",
    "        if str(itemfile)[-4:] != \".zip\":\n",
    "\n",
    "            print(itemfile)\n",
    "\n",
    "            # add the file to the ZIP archive\n",
    "            outzip.write(itemfile, arcname=itemfile.name)\n",
    "\n",
    "            # delete the original file\n",
    "            itemfile.unlink()"
   ]
  }
 ],
 "metadata": {
  "kernelspec": {
   "display_name": "Python 3",
   "language": "python",
   "name": "python3"
  },
  "language_info": {
   "codemirror_mode": {
    "name": "ipython",
    "version": 3
   },
   "file_extension": ".py",
   "mimetype": "text/x-python",
   "name": "python",
   "nbconvert_exporter": "python",
   "pygments_lexer": "ipython3",
   "version": "3.11.11"
  }
 },
 "nbformat": 4,
 "nbformat_minor": 5
}
